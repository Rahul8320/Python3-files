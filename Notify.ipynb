{
 "cells": [
  {
   "cell_type": "markdown",
   "id": "77fa3e82",
   "metadata": {},
   "source": [
    "# Notification "
   ]
  },
  {
   "cell_type": "code",
   "execution_count": 3,
   "id": "bb87090d",
   "metadata": {},
   "outputs": [
    {
     "name": "stdout",
     "output_type": "stream",
     "text": [
      "Requirement already satisfied: notify2 in /home/mine/anaconda3/lib/python3.8/site-packages (0.3.1)\n",
      "Collecting dbus-python\n",
      "  Downloading dbus-python-1.2.16.tar.gz (576 kB)\n",
      "\u001b[K     |████████████████████████████████| 576 kB 494 kB/s eta 0:00:01\n",
      "\u001b[?25hBuilding wheels for collected packages: dbus-python\n",
      "  Building wheel for dbus-python (setup.py) ... \u001b[?25ldone\n",
      "\u001b[?25h  Created wheel for dbus-python: filename=dbus_python-1.2.16-cp38-cp38-linux_x86_64.whl size=384304 sha256=ac95b19fa2ca7627d6c55a67dc7a695e9a47d4ea52ca348b581dcebed3c695d0\n",
      "  Stored in directory: /home/mine/.cache/pip/wheels/96/73/ab/d284694896db856003b553f486e866d3829635a1687aa85b70\n",
      "Successfully built dbus-python\n",
      "Installing collected packages: dbus-python\n",
      "Successfully installed dbus-python-1.2.16\n"
     ]
    }
   ],
   "source": [
    "!pip install -U notify2\n",
    "!pip install dbus-python"
   ]
  },
  {
   "cell_type": "code",
   "execution_count": 4,
   "id": "e2def74e",
   "metadata": {},
   "outputs": [],
   "source": [
    "import notify2"
   ]
  },
  {
   "cell_type": "code",
   "execution_count": 13,
   "id": "9c380e85",
   "metadata": {},
   "outputs": [
    {
     "data": {
      "text/plain": [
       "True"
      ]
     },
     "execution_count": 13,
     "metadata": {},
     "output_type": "execute_result"
    }
   ],
   "source": [
    "notify2.init('foo')\n",
    "t = '10:00 AM'\n",
    "target='NAme'\n",
    "n = notify2.Notification(target, 'Online at ' + t)\n",
    "n.show()"
   ]
  },
  {
   "cell_type": "code",
   "execution_count": null,
   "id": "f9437800",
   "metadata": {},
   "outputs": [],
   "source": []
  },
  {
   "cell_type": "code",
   "execution_count": 1,
   "id": "85c4dbd5",
   "metadata": {},
   "outputs": [
    {
     "name": "stdout",
     "output_type": "stream",
     "text": [
      "\"Prabir\" is online 11:12:51\n",
      "Exception 2\n",
      "Exception 2\n",
      "Exception 2\n",
      "Exception 2\n"
     ]
    },
    {
     "ename": "KeyboardInterrupt",
     "evalue": "",
     "output_type": "error",
     "traceback": [
      "\u001b[0;31m---------------------------------------------------------------------------\u001b[0m",
      "\u001b[0;31mElementClickInterceptedException\u001b[0m          Traceback (most recent call last)",
      "\u001b[0;32m<ipython-input-1-fd6f65b6771a>\u001b[0m in \u001b[0;36m<module>\u001b[0;34m\u001b[0m\n\u001b[1;32m     39\u001b[0m                 \u001b[0;31m# Click on new chat button\u001b[0m\u001b[0;34m\u001b[0m\u001b[0;34m\u001b[0m\u001b[0;34m\u001b[0m\u001b[0m\n\u001b[0;32m---> 40\u001b[0;31m                 \u001b[0mnew_chat_title\u001b[0m\u001b[0;34m.\u001b[0m\u001b[0mclick\u001b[0m\u001b[0;34m(\u001b[0m\u001b[0;34m)\u001b[0m\u001b[0;34m\u001b[0m\u001b[0;34m\u001b[0m\u001b[0m\n\u001b[0m\u001b[1;32m     41\u001b[0m \u001b[0;34m\u001b[0m\u001b[0m\n",
      "\u001b[0;32m~/anaconda3/lib/python3.8/site-packages/selenium/webdriver/remote/webelement.py\u001b[0m in \u001b[0;36mclick\u001b[0;34m(self)\u001b[0m\n\u001b[1;32m     79\u001b[0m         \u001b[0;34m\"\"\"Clicks the element.\"\"\"\u001b[0m\u001b[0;34m\u001b[0m\u001b[0;34m\u001b[0m\u001b[0m\n\u001b[0;32m---> 80\u001b[0;31m         \u001b[0mself\u001b[0m\u001b[0;34m.\u001b[0m\u001b[0m_execute\u001b[0m\u001b[0;34m(\u001b[0m\u001b[0mCommand\u001b[0m\u001b[0;34m.\u001b[0m\u001b[0mCLICK_ELEMENT\u001b[0m\u001b[0;34m)\u001b[0m\u001b[0;34m\u001b[0m\u001b[0;34m\u001b[0m\u001b[0m\n\u001b[0m\u001b[1;32m     81\u001b[0m \u001b[0;34m\u001b[0m\u001b[0m\n",
      "\u001b[0;32m~/anaconda3/lib/python3.8/site-packages/selenium/webdriver/remote/webelement.py\u001b[0m in \u001b[0;36m_execute\u001b[0;34m(self, command, params)\u001b[0m\n\u001b[1;32m    632\u001b[0m         \u001b[0mparams\u001b[0m\u001b[0;34m[\u001b[0m\u001b[0;34m'id'\u001b[0m\u001b[0;34m]\u001b[0m \u001b[0;34m=\u001b[0m \u001b[0mself\u001b[0m\u001b[0;34m.\u001b[0m\u001b[0m_id\u001b[0m\u001b[0;34m\u001b[0m\u001b[0;34m\u001b[0m\u001b[0m\n\u001b[0;32m--> 633\u001b[0;31m         \u001b[0;32mreturn\u001b[0m \u001b[0mself\u001b[0m\u001b[0;34m.\u001b[0m\u001b[0m_parent\u001b[0m\u001b[0;34m.\u001b[0m\u001b[0mexecute\u001b[0m\u001b[0;34m(\u001b[0m\u001b[0mcommand\u001b[0m\u001b[0;34m,\u001b[0m \u001b[0mparams\u001b[0m\u001b[0;34m)\u001b[0m\u001b[0;34m\u001b[0m\u001b[0;34m\u001b[0m\u001b[0m\n\u001b[0m\u001b[1;32m    634\u001b[0m \u001b[0;34m\u001b[0m\u001b[0m\n",
      "\u001b[0;32m~/anaconda3/lib/python3.8/site-packages/selenium/webdriver/remote/webdriver.py\u001b[0m in \u001b[0;36mexecute\u001b[0;34m(self, driver_command, params)\u001b[0m\n\u001b[1;32m    320\u001b[0m         \u001b[0;32mif\u001b[0m \u001b[0mresponse\u001b[0m\u001b[0;34m:\u001b[0m\u001b[0;34m\u001b[0m\u001b[0;34m\u001b[0m\u001b[0m\n\u001b[0;32m--> 321\u001b[0;31m             \u001b[0mself\u001b[0m\u001b[0;34m.\u001b[0m\u001b[0merror_handler\u001b[0m\u001b[0;34m.\u001b[0m\u001b[0mcheck_response\u001b[0m\u001b[0;34m(\u001b[0m\u001b[0mresponse\u001b[0m\u001b[0;34m)\u001b[0m\u001b[0;34m\u001b[0m\u001b[0;34m\u001b[0m\u001b[0m\n\u001b[0m\u001b[1;32m    322\u001b[0m             response['value'] = self._unwrap_value(\n",
      "\u001b[0;32m~/anaconda3/lib/python3.8/site-packages/selenium/webdriver/remote/errorhandler.py\u001b[0m in \u001b[0;36mcheck_response\u001b[0;34m(self, response)\u001b[0m\n\u001b[1;32m    241\u001b[0m             \u001b[0;32mraise\u001b[0m \u001b[0mexception_class\u001b[0m\u001b[0;34m(\u001b[0m\u001b[0mmessage\u001b[0m\u001b[0;34m,\u001b[0m \u001b[0mscreen\u001b[0m\u001b[0;34m,\u001b[0m \u001b[0mstacktrace\u001b[0m\u001b[0;34m,\u001b[0m \u001b[0malert_text\u001b[0m\u001b[0;34m)\u001b[0m\u001b[0;34m\u001b[0m\u001b[0;34m\u001b[0m\u001b[0m\n\u001b[0;32m--> 242\u001b[0;31m         \u001b[0;32mraise\u001b[0m \u001b[0mexception_class\u001b[0m\u001b[0;34m(\u001b[0m\u001b[0mmessage\u001b[0m\u001b[0;34m,\u001b[0m \u001b[0mscreen\u001b[0m\u001b[0;34m,\u001b[0m \u001b[0mstacktrace\u001b[0m\u001b[0;34m)\u001b[0m\u001b[0;34m\u001b[0m\u001b[0;34m\u001b[0m\u001b[0m\n\u001b[0m\u001b[1;32m    243\u001b[0m \u001b[0;34m\u001b[0m\u001b[0m\n",
      "\u001b[0;31mElementClickInterceptedException\u001b[0m: Message: element click intercepted: Element <span data-testid=\"chat\" data-icon=\"chat\" class=\"\">...</span> is not clickable at point (204, 29). Other element would receive the click: <header class=\"_1PGhQ\">...</header>\n  (Session info: chrome=92.0.4515.131)\n",
      "\nDuring handling of the above exception, another exception occurred:\n",
      "\u001b[0;31mKeyboardInterrupt\u001b[0m                         Traceback (most recent call last)",
      "\u001b[0;32m<ipython-input-1-fd6f65b6771a>\u001b[0m in \u001b[0;36m<module>\u001b[0;34m\u001b[0m\n\u001b[1;32m     71\u001b[0m             \u001b[0;32mexcept\u001b[0m\u001b[0;34m:\u001b[0m\u001b[0;34m\u001b[0m\u001b[0;34m\u001b[0m\u001b[0m\n\u001b[1;32m     72\u001b[0m                 \u001b[0mprint\u001b[0m\u001b[0;34m(\u001b[0m\u001b[0;34m'Exception 2'\u001b[0m\u001b[0;34m)\u001b[0m\u001b[0;34m\u001b[0m\u001b[0;34m\u001b[0m\u001b[0m\n\u001b[0;32m---> 73\u001b[0;31m                 \u001b[0mtime\u001b[0m\u001b[0;34m.\u001b[0m\u001b[0msleep\u001b[0m\u001b[0;34m(\u001b[0m\u001b[0;36m4\u001b[0m\u001b[0;34m)\u001b[0m\u001b[0;34m\u001b[0m\u001b[0;34m\u001b[0m\u001b[0m\n\u001b[0m",
      "\u001b[0;31mKeyboardInterrupt\u001b[0m: "
     ]
    }
   ],
   "source": [
    "from selenium import webdriver\n",
    "from selenium.webdriver.support.ui import WebDriverWait\n",
    "from selenium.webdriver.support import expected_conditions as EC\n",
    "from selenium.webdriver.common.keys import Keys\n",
    "from selenium.webdriver.common.by import By\n",
    "import time\n",
    "from datetime import datetime\n",
    "import os\n",
    "\n",
    "\n",
    "# XPath selectors\n",
    "NEW_CHAT_BTN = '/html[1]/body[1]/div[1]/div[1]/div[1]/div[3]/div[1]/header[1]/div[2]/div[1]/span[1]/div[2]/div[1]/span[1]'\n",
    "INPUT_TXT_BOX = '/html[1]/body[1]/div[1]/div[1]/div[1]/div[2]/div[1]/span[1]/div[1]/span[1]/div[1]/div[1]/div[1]/label[1]/div[1]/div[2]'\n",
    "ONLINE_STATUS_LABEL = '/html[1]/body[1]/div[1]/div[1]/div[1]/div[4]/div[1]/header[1]/div[2]/div[2]/span[1]'\n",
    "\n",
    "# Replace below with the list of targets to be tracked\n",
    "TARGETS = {'\"Rahul\"': '9647680087', '\"Bunu\"': '9083473481','\"CR\"':'9564933117', '\"Mine\"':'9564015168', '\"Prabir\"':'8944018462'}\n",
    "\n",
    "# Replace below path with the absolute path\n",
    "browser = webdriver.Chrome(r'/media/mine/PROJECT/Python_projects/chromedriver')\n",
    "\n",
    "# Load Whatsapp Web page\n",
    "browser.get(\"https://web.whatsapp.com/\")\n",
    "wait = WebDriverWait(browser, 600)\n",
    "\n",
    "while True:\n",
    "    # Clear screen\n",
    "    os.system('cls')\n",
    "\n",
    "    # For each target\n",
    "    for target in TARGETS:\n",
    "        tryAgain = True\n",
    "\n",
    "        # Wait untill new chat button is visible\n",
    "        new_chat_title = wait.until(EC.presence_of_element_located((By.XPATH, NEW_CHAT_BTN)))\n",
    "\n",
    "        while (tryAgain):\n",
    "            try:\n",
    "                # Click on new chat button\n",
    "                new_chat_title.click()\n",
    "\n",
    "                # Wait untill input text box is visible\n",
    "                input_box = wait.until(EC.presence_of_element_located((By.XPATH, INPUT_TXT_BOX)))\n",
    "\n",
    "                time.sleep(0.5)\n",
    "\n",
    "                # Write phone number\n",
    "                input_box.send_keys(TARGETS[target])\n",
    "\n",
    "                time.sleep(1)\n",
    "\n",
    "                # Press enter to confirm the phone number\n",
    "                input_box.send_keys(Keys.ENTER)\n",
    "\n",
    "                time.sleep(5)\n",
    "                tryAgain = False\n",
    "\n",
    "                try:\n",
    "                    try:\n",
    "                        browser.find_element_by_xpath(ONLINE_STATUS_LABEL)\n",
    "                        t = datetime.now().strftime(\"%I:%M:%S\")\n",
    "                        print(target + ' is online' + ' '+t)\n",
    "                        \n",
    "                    except:\n",
    "                        pass\n",
    "                        #print(target + ' is offline')\n",
    "                    time.sleep(1)\n",
    "                except:\n",
    "                    print('Exception 1')\n",
    "                    time.sleep(10)\n",
    "            except:\n",
    "                print('Exception 2')\n",
    "                time.sleep(4)"
   ]
  },
  {
   "cell_type": "code",
   "execution_count": null,
   "id": "38af7733",
   "metadata": {},
   "outputs": [],
   "source": []
  }
 ],
 "metadata": {
  "kernelspec": {
   "display_name": "Python 3",
   "language": "python",
   "name": "python3"
  },
  "language_info": {
   "codemirror_mode": {
    "name": "ipython",
    "version": 3
   },
   "file_extension": ".py",
   "mimetype": "text/x-python",
   "name": "python",
   "nbconvert_exporter": "python",
   "pygments_lexer": "ipython3",
   "version": "3.8.8"
  }
 },
 "nbformat": 4,
 "nbformat_minor": 5
}
