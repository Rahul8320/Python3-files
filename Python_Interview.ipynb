{
 "cells": [
  {
   "cell_type": "code",
   "execution_count": 1,
   "id": "ef4573b4",
   "metadata": {},
   "outputs": [],
   "source": [
    "myDict = {\"Fruit_name\" : (\"Apple\",\"Mango\",\"Banana\",\"Lichu\")}"
   ]
  },
  {
   "cell_type": "code",
   "execution_count": 2,
   "id": "80e9ba29",
   "metadata": {},
   "outputs": [
    {
     "name": "stdout",
     "output_type": "stream",
     "text": [
      "{'Fruit_name': ('Apple', 'Mango', 'Banana', 'Lichu')}\n"
     ]
    }
   ],
   "source": [
    "print(myDict)"
   ]
  },
  {
   "cell_type": "code",
   "execution_count": 3,
   "id": "d2087f96",
   "metadata": {},
   "outputs": [],
   "source": [
    "class Human:\n",
    "    name = None\n",
    "    age = None\n",
    "    def set_name(self):\n",
    "        self.name = input(\"Enter Your Name : \")\n",
    "    def set_age(self):\n",
    "        self.age = input(\"Enter Your Age : \")\n",
    "    def get_name(self):\n",
    "        print(\"Your name : \"+self.name)\n",
    "    def get_age(self):\n",
    "        print(\"Your age : \"+self.age)"
   ]
  },
  {
   "cell_type": "code",
   "execution_count": 4,
   "id": "7526b958",
   "metadata": {},
   "outputs": [
    {
     "name": "stdout",
     "output_type": "stream",
     "text": [
      "Enter Your Name : Rahul Dey\n",
      "Enter Your Age : 21\n",
      "Your name : Rahul Dey\n",
      "Your age : 21\n"
     ]
    }
   ],
   "source": [
    "person1 = Human()\n",
    "person1.set_name()\n",
    "person1.set_age()\n",
    "person1.get_name()\n",
    "person1.get_age()"
   ]
  },
  {
   "cell_type": "code",
   "execution_count": 5,
   "id": "3457f397",
   "metadata": {},
   "outputs": [],
   "source": [
    "class Student:\n",
    "    def __init__(self,name,age,branch):\n",
    "        self.name = name\n",
    "        self.age = age\n",
    "        self.branch = branch\n",
    "    def details(self):\n",
    "        print(\"Name : \"+self.name)\n",
    "        print(\"Age : \"+str(self.age))\n",
    "        print(\"Branch : \"+self.branch)"
   ]
  },
  {
   "cell_type": "code",
   "execution_count": 6,
   "id": "b36570b8",
   "metadata": {},
   "outputs": [
    {
     "name": "stdout",
     "output_type": "stream",
     "text": [
      "Name : Rahul Dey\n",
      "Age : 21\n",
      "Branch : CSE\n"
     ]
    }
   ],
   "source": [
    "S1 = Student(\"Rahul Dey\",21,\"CSE\")\n",
    "S1.details()"
   ]
  },
  {
   "cell_type": "code",
   "execution_count": 7,
   "id": "47620a79",
   "metadata": {},
   "outputs": [
    {
     "name": "stdout",
     "output_type": "stream",
     "text": [
      "Fruit Class\n",
      "Mango Class\n"
     ]
    }
   ],
   "source": [
    "# Single level Inheritance in python\n",
    "class fruit():\n",
    "    def __init__(self):\n",
    "        print(\"Fruit Class\")\n",
    "        \n",
    "class Mango(fruit):\n",
    "    def __init__(self):\n",
    "        super().__init__()\n",
    "        print(\"Mango Class\")\n",
    "        \n",
    "m1 = Mango()"
   ]
  },
  {
   "cell_type": "code",
   "execution_count": 9,
   "id": "c730d12a",
   "metadata": {},
   "outputs": [
    {
     "name": "stdout",
     "output_type": "stream",
     "text": [
      "[1 2 3]\n",
      "[[1 2 3]\n",
      " [4 5 6]]\n"
     ]
    }
   ],
   "source": [
    "import numpy as np\n",
    "# 1-D array\n",
    "a = np.array([1,2,3])\n",
    "print(a)\n",
    "# 2-D array\n",
    "d = np.array([[1,2,3],\n",
    "             [4,5,6]])\n",
    "print(d)"
   ]
  },
  {
   "cell_type": "code",
   "execution_count": 10,
   "id": "3fd656e0",
   "metadata": {},
   "outputs": [
    {
     "name": "stdout",
     "output_type": "stream",
     "text": [
      "[[0. 0. 0. 0. 0.]\n",
      " [0. 0. 0. 0. 0.]\n",
      " [0. 0. 0. 0. 0.]\n",
      " [0. 0. 0. 0. 0.]\n",
      " [0. 0. 0. 0. 0.]]\n"
     ]
    }
   ],
   "source": [
    "# 5*5 numpy array comprising of all zeros\n",
    "b = np.zeros((5,5))\n",
    "print(b)"
   ]
  },
  {
   "cell_type": "code",
   "execution_count": 13,
   "id": "320b0bf5",
   "metadata": {},
   "outputs": [
    {
     "name": "stdout",
     "output_type": "stream",
     "text": [
      "[5 7 9]\n",
      "[ 6 15]\n"
     ]
    }
   ],
   "source": [
    "# add 2 numpy array\n",
    "a1 = np.array([1,2,3])\n",
    "a2 = np.array([4,5,6])\n",
    "print(np.sum((a1,a2),axis=0)) # add column wise\n",
    "print(np.sum((a1,a2),axis=1)) # add row wise"
   ]
  },
  {
   "cell_type": "code",
   "execution_count": null,
   "id": "34aea1ab",
   "metadata": {},
   "outputs": [],
   "source": []
  }
 ],
 "metadata": {
  "kernelspec": {
   "display_name": "Python 3",
   "language": "python",
   "name": "python3"
  },
  "language_info": {
   "codemirror_mode": {
    "name": "ipython",
    "version": 3
   },
   "file_extension": ".py",
   "mimetype": "text/x-python",
   "name": "python",
   "nbconvert_exporter": "python",
   "pygments_lexer": "ipython3",
   "version": "3.8.8"
  }
 },
 "nbformat": 4,
 "nbformat_minor": 5
}
