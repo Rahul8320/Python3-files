{
 "cells": [
  {
   "cell_type": "markdown",
   "id": "8256a69e",
   "metadata": {},
   "source": [
    "10-Aug-2021\n",
    "    #1 Day of Code"
   ]
  },
  {
   "cell_type": "markdown",
   "id": "390272da",
   "metadata": {},
   "source": [
    "# _ in a For Loop"
   ]
  },
  {
   "cell_type": "code",
   "execution_count": null,
   "id": "b7e9cab7",
   "metadata": {},
   "outputs": [],
   "source": [
    "# when we does not need the itearator!\n",
    "for _ in range(10):\n",
    "    print(\"U r Mine!\")"
   ]
  },
  {
   "cell_type": "code",
   "execution_count": null,
   "id": "cb389640",
   "metadata": {},
   "outputs": [],
   "source": [
    "lst = ['Audi','Lamborgini','Rolls Royals','BMW','Marcedies']\n",
    "for _ in lst:\n",
    "    print(_)"
   ]
  },
  {
   "cell_type": "markdown",
   "id": "09a26aa8",
   "metadata": {},
   "source": [
    "# Round and Abs"
   ]
  },
  {
   "cell_type": "code",
   "execution_count": null,
   "id": "841065f3",
   "metadata": {},
   "outputs": [],
   "source": [
    "round(4.6)  # returns the mathematical round."
   ]
  },
  {
   "cell_type": "code",
   "execution_count": null,
   "id": "a310370c",
   "metadata": {},
   "outputs": [],
   "source": [
    "abs(-4.6)  # returns the absolute value."
   ]
  },
  {
   "cell_type": "markdown",
   "id": "299cf11d",
   "metadata": {},
   "source": [
    "# Generate the Band Name"
   ]
  },
  {
   "cell_type": "code",
   "execution_count": null,
   "id": "550e60f1",
   "metadata": {
    "scrolled": true
   },
   "outputs": [],
   "source": [
    "print(\"Welcome to Band Name Generator!\")\n",
    "print(\"What's name of the city you grew up in ?\")\n",
    "city = input(\">>> \")\n",
    "print(\"What's your pet's name ?\")\n",
    "pet = input(\">>> \")\n",
    "print(f\"Your band name could be '{city} {pet}'\")"
   ]
  },
  {
   "cell_type": "markdown",
   "id": "2d2451c5",
   "metadata": {},
   "source": [
    "11-Aug-2021 #2 Day of Code "
   ]
  },
  {
   "cell_type": "markdown",
   "id": "6640a7e0",
   "metadata": {},
   "source": [
    "# Tip Calculator"
   ]
  },
  {
   "cell_type": "code",
   "execution_count": null,
   "id": "0d838188",
   "metadata": {},
   "outputs": [],
   "source": [
    "print(\"Welcome to Tip Calculator.\")\n",
    "bill = float(input(\"What was total bill ? $\"))\n",
    "person = int(input(\"How many people to spilt the bill ? \"))\n",
    "tip = int(input(\"What percentage tip would you like to give? 10, 12 or 15? \"))\n",
    "result = (bill+((bill*tip)/100))/person\n",
    "print(\"Each person should pay : $\",round(result))"
   ]
  },
  {
   "cell_type": "markdown",
   "id": "57c029f4",
   "metadata": {},
   "source": [
    "# 20-Aug-2021"
   ]
  },
  {
   "cell_type": "markdown",
   "id": "ef318d44",
   "metadata": {},
   "source": [
    "# FizzBuzz Game"
   ]
  },
  {
   "cell_type": "code",
   "execution_count": null,
   "id": "7902d041",
   "metadata": {
    "scrolled": true
   },
   "outputs": [],
   "source": [
    "for num in range(1,101):\n",
    "    if num%3==0 and num%5==0:\n",
    "        print(\"FizzBuzz\")\n",
    "    elif num%3==0:\n",
    "        print(\"Fizz\")\n",
    "    elif num%5==0:\n",
    "        print(\"Buzz\")\n",
    "    else:\n",
    "        print(num)"
   ]
  },
  {
   "cell_type": "markdown",
   "id": "0eeb0533",
   "metadata": {},
   "source": [
    "# Password Generator"
   ]
  },
  {
   "cell_type": "code",
   "execution_count": null,
   "id": "33ce39cc",
   "metadata": {},
   "outputs": [],
   "source": [
    "import random as rd\n",
    "lower_case = ['o','p','a','s','d','f','g','h','q','w','e','r','t','y','u','i','c','v','b','j','k','l','z','x','n','m']\n",
    "upper_case = ['Q','W','E','R','T','Y','U','I','O','P','A','S','D','F','G','H','J','K','L','Z','X','C','V','B','N','M']\n",
    "number = ['1','2','3','4','5','6','7','8','9','0']\n",
    "simbol = ['$','%','^','&','~','!','@','#','*','(',')','_','+','=','*','/',',','.','?']\n",
    "\n",
    "l = int(input(\"How many letters u want? \"))\n",
    "if(l<6):\n",
    "    print(\"Length must be greater than 6!\")\n",
    "    print(\"Try Again!\")\n",
    "else:\n",
    "    n = int(input(\"How many numbers u want? \"))\n",
    "    s = int(input(\"How many simbols u want? \"))\n",
    "\n",
    "\n",
    "    if(l+n+s < 10):\n",
    "        print(\"Sorry! Total Length must be greater than 10.\")\n",
    "        print(\"Try Again!\")\n",
    "\n",
    "    else:\n",
    "        # make an empty list to store random values\n",
    "        password = []\n",
    "        # take a random value between 2 to half of letters for upercase lettrs\n",
    "        r = rd.randint(2,l/2)\n",
    "        u = l - r # rest is for lowercase letters\n",
    "        password += rd.sample(upper_case,r)    # take random uppercase letters\n",
    "        password += rd.sample(lower_case,u)    # take random lowercase letters\n",
    "        password += rd.sample(number,n)        # take random numbers\n",
    "        password += rd.sample(simbol,s)        # take andom simbols\n",
    "        \n",
    "        # shuffle the password list\n",
    "        word = rd.sample(password,(l+n+s))\n",
    "        # convert this list to string \n",
    "        strong_password=\"\"\n",
    "        for e in word:\n",
    "            strong_password += str(e)\n",
    "\n",
    "            \n",
    "        print(\"Your Strong Password is \",strong_password)\n",
    "        print(\"Thank You!\")"
   ]
  },
  {
   "cell_type": "markdown",
   "id": "caf01d25",
   "metadata": {},
   "source": [
    "# Password generator 2"
   ]
  },
  {
   "cell_type": "code",
   "execution_count": null,
   "id": "12f0603b",
   "metadata": {},
   "outputs": [],
   "source": [
    "import random as rd\n",
    "letters = ['o','p','a','s','d','f','g','h','q','w','e','r','t','y','u','i','c','v','b','j','k','l','z','x','n','m','Q','W','E','R','T','Y','U','I','O','P','A','S','D','F','G','H','J','K','L','Z','X','C','V','B','N','M']\n",
    "number = ['1','2','3','4','5','6','7','8','9','0']\n",
    "simbol = ['$','%','^','&','~','!','@','#','*','(',')','_','+','/','?']\n",
    "print(\"Welcome to password geerator\")\n",
    "le = int(input(\"How many letters u want? \"))\n",
    "num = int(input(\"How many numbers u want? \"))\n",
    "sym = int(input(\"How many symbols u want? \"))\n",
    "\n",
    "password = \"\"\n",
    "for i in range(1,le+1):\n",
    "    password += rd.choice(letters)\n",
    "    \n",
    "for i in range(1,num+1):\n",
    "    password += rd.choice(number)\n",
    "    \n",
    "for i in range(1,sym+1):\n",
    "    password += rd.choice(simbol)\n",
    "    \n",
    "print(\"Your password is : \"+password)"
   ]
  },
  {
   "cell_type": "markdown",
   "id": "cee6de9c",
   "metadata": {},
   "source": [
    "# Password Generator 3"
   ]
  },
  {
   "cell_type": "code",
   "execution_count": 5,
   "id": "cbede963",
   "metadata": {},
   "outputs": [
    {
     "name": "stdout",
     "output_type": "stream",
     "text": [
      "Welcome to password geerator\n",
      "How many letters u want? 10\n",
      "How many numbers u want? 4\n",
      "How many symbols u want? 3\n",
      "Your password is : p2(A$ow9h61XvAme(\n"
     ]
    }
   ],
   "source": [
    "import random as rd\n",
    "letters = ['o','p','a','s','d','f','g','h','q','w','e','r','t','y','u','i','c','v','b','j','k','l','z','x','n','m','Q','W','E','R','T','Y','U','I','O','P','A','S','D','F','G','H','J','K','L','Z','X','C','V','B','N','M']\n",
    "number = ['1','2','3','4','5','6','7','8','9','0']\n",
    "simbol = ['$','%','^','&','~','!','@','#','*','(',')','_','+','/','?']\n",
    "print(\"Welcome to password geerator\")\n",
    "le = int(input(\"How many letters u want? \"))\n",
    "num = int(input(\"How many numbers u want? \"))\n",
    "sym = int(input(\"How many symbols u want? \"))\n",
    "\n",
    "password = []\n",
    "for i in range(1,le+1):\n",
    "    password.append(rd.choice(letters))\n",
    "    \n",
    "for i in range(1,num+1):\n",
    "    password += rd.choice(number)\n",
    "    \n",
    "for i in range(1,sym+1):\n",
    "    password += rd.choice(simbol)\n",
    "    \n",
    "rd.shuffle(password)\n",
    "strong_password = \"\"\n",
    "for e in password:\n",
    "    strong_password += str(e)\n",
    "    \n",
    "print(\"Your password is : \"+strong_password)"
   ]
  },
  {
   "cell_type": "markdown",
   "id": "be7a93c2",
   "metadata": {},
   "source": [
    "# Hangman Game"
   ]
  },
  {
   "cell_type": "code",
   "execution_count": 17,
   "id": "e68a672a",
   "metadata": {},
   "outputs": [
    {
     "name": "stdout",
     "output_type": "stream",
     "text": [
      "Guess a letter: m\n",
      "m _ _ _ _ Guess a letter: u\n",
      "_ _ u _ _ Guess a letter: o\n",
      "_ o _ _ _ Guess a letter: s\n",
      "_ _ _ s _ Guess a letter: e\n",
      "_ _ _ _ e "
     ]
    }
   ],
   "source": [
    "import random \n",
    "wordlist = [\"mouse\",\"computer\",\"keyboard\",\"laptop\"]\n",
    "word = random.choice(wordlist)\n",
    "ans = \"\"\n",
    "while len(ans)!=len(word):\n",
    "    letter = input(\"Guess a letter: \")\n",
    "    for le in word:\n",
    "        if letter==le:\n",
    "            ans += le\n",
    "            print(le,end=\" \")\n",
    "        else:\n",
    "            print(\"_\",end=\" \")"
   ]
  },
  {
   "cell_type": "code",
   "execution_count": 31,
   "id": "52354e1b",
   "metadata": {},
   "outputs": [
    {
     "name": "stdout",
     "output_type": "stream",
     "text": [
      "Guess a letter: exit\n",
      "_ e _ _ _ _ _ _ Guess a letter: ed\n",
      "_ e _ _ _ _ _ _ Guess a letter: g\n",
      "_ e _ _ _ _ _ _ Guess a letter: g\n",
      "_ e _ _ _ _ _ _ Guess a letter: h\n",
      "_ e _ _ _ _ _ _ Guess a letter: j\n",
      "_ e _ _ _ _ _ _ Guess a letter: j\n",
      "_ e _ _ _ _ _ _ Guess a letter: \n"
     ]
    },
    {
     "ename": "IndexError",
     "evalue": "string index out of range",
     "output_type": "error",
     "traceback": [
      "\u001b[0;31m---------------------------------------------------------------------------\u001b[0m",
      "\u001b[0;31mIndexError\u001b[0m                                Traceback (most recent call last)",
      "\u001b[0;32m<ipython-input-31-0ddf248704ea>\u001b[0m in \u001b[0;36m<module>\u001b[0;34m\u001b[0m\n\u001b[1;32m      9\u001b[0m \u001b[0mans\u001b[0m \u001b[0;34m=\u001b[0m \u001b[0;34m\"\"\u001b[0m\u001b[0;34m\u001b[0m\u001b[0;34m\u001b[0m\u001b[0m\n\u001b[1;32m     10\u001b[0m \u001b[0;32mwhile\u001b[0m \u001b[0mlen\u001b[0m\u001b[0;34m(\u001b[0m\u001b[0mans\u001b[0m\u001b[0;34m)\u001b[0m\u001b[0;34m!=\u001b[0m\u001b[0mlen\u001b[0m\u001b[0;34m(\u001b[0m\u001b[0mword\u001b[0m\u001b[0;34m)\u001b[0m\u001b[0;34m:\u001b[0m\u001b[0;34m\u001b[0m\u001b[0;34m\u001b[0m\u001b[0m\n\u001b[0;32m---> 11\u001b[0;31m     \u001b[0mletter\u001b[0m \u001b[0;34m=\u001b[0m \u001b[0minput\u001b[0m\u001b[0;34m(\u001b[0m\u001b[0;34m\"Guess a letter: \"\u001b[0m\u001b[0;34m)\u001b[0m\u001b[0;34m.\u001b[0m\u001b[0mlower\u001b[0m\u001b[0;34m(\u001b[0m\u001b[0;34m)\u001b[0m\u001b[0;34m[\u001b[0m\u001b[0;36m0\u001b[0m\u001b[0;34m]\u001b[0m\u001b[0;34m\u001b[0m\u001b[0;34m\u001b[0m\u001b[0m\n\u001b[0m\u001b[1;32m     12\u001b[0m     \u001b[0;32mfor\u001b[0m \u001b[0mpos\u001b[0m \u001b[0;32min\u001b[0m \u001b[0mrange\u001b[0m\u001b[0;34m(\u001b[0m\u001b[0mlen\u001b[0m\u001b[0;34m(\u001b[0m\u001b[0mword\u001b[0m\u001b[0;34m)\u001b[0m\u001b[0;34m)\u001b[0m\u001b[0;34m:\u001b[0m\u001b[0;34m\u001b[0m\u001b[0;34m\u001b[0m\u001b[0m\n\u001b[1;32m     13\u001b[0m         \u001b[0;32mif\u001b[0m \u001b[0mletter\u001b[0m\u001b[0;34m==\u001b[0m\u001b[0mword\u001b[0m\u001b[0;34m[\u001b[0m\u001b[0mpos\u001b[0m\u001b[0;34m]\u001b[0m\u001b[0;34m:\u001b[0m\u001b[0;34m\u001b[0m\u001b[0;34m\u001b[0m\u001b[0m\n",
      "\u001b[0;31mIndexError\u001b[0m: string index out of range"
     ]
    }
   ],
   "source": [
    "# version 2\n",
    "import random \n",
    "wordlist = [\"mouse\",\"computer\",\"keyboard\",\"laptop\",\"language\",\"compition\",\"letter\",\"repete\",\"study\",\"human\"]\n",
    "word = random.choice(wordlist)\n",
    "display = []\n",
    "for _ in range(len(word)):\n",
    "    display += \"_\"\n",
    "\n",
    "ans = \"\"\n",
    "while len(ans)!=len(word):\n",
    "    letter = input(\"Guess a letter: \").lower()[0]\n",
    "    for pos in range(len(word)):\n",
    "        if letter==word[pos]:\n",
    "            ans += letter\n",
    "            display[pos] = letter\n",
    "    for le in display:\n",
    "        print(le,end=\" \")"
   ]
  },
  {
   "cell_type": "code",
   "execution_count": 1,
   "id": "a17f9195",
   "metadata": {
    "collapsed": true
   },
   "outputs": [
    {
     "name": "stdout",
     "output_type": "stream",
     "text": [
      "Guess a letter: m\n",
      "_ _ m _ _\n",
      "\n",
      "  +---+\n",
      "  |   |\n",
      "      |\n",
      "      |\n",
      "      |\n",
      "      |\n",
      "=========\n",
      "\n",
      "Guess a letter: o\n",
      "_ _ m _ _\n",
      "\n",
      "  +---+\n",
      "  |   |\n",
      "  O   |\n",
      "      |\n",
      "      |\n",
      "      |\n",
      "=========\n",
      "\n",
      "Guess a letter: u\n",
      "_ _ m _ _\n",
      "\n",
      "  +---+\n",
      "  |   |\n",
      "  O   |\n",
      "  |   |\n",
      "      |\n",
      "      |\n",
      "=========\n",
      "\n",
      "Guess a letter: s\n",
      "_ _ m _ _\n",
      "\n",
      "  +---+\n",
      "  |   |\n",
      "  O   |\n",
      " /|   |\n",
      "      |\n",
      "      |\n",
      "=========\n",
      "Guess a letter: y\n",
      "_ _ m _ _\n",
      "\n",
      "  +---+\n",
      "  |   |\n",
      "  O   |\n",
      " /|\\  |\n",
      "      |\n",
      "      |\n",
      "=========\n",
      "\n",
      "Guess a letter: c\n",
      "c _ m _ _\n",
      "\n",
      "  +---+\n",
      "  |   |\n",
      "  O   |\n",
      " /|\\  |\n",
      "      |\n",
      "      |\n",
      "=========\n",
      "\n",
      "Guess a letter: a\n",
      "c a m _ _\n",
      "\n",
      "  +---+\n",
      "  |   |\n",
      "  O   |\n",
      " /|\\  |\n",
      "      |\n",
      "      |\n",
      "=========\n",
      "\n",
      "Guess a letter: l\n",
      "c a m _ l\n",
      "\n",
      "  +---+\n",
      "  |   |\n",
      "  O   |\n",
      " /|\\  |\n",
      "      |\n",
      "      |\n",
      "=========\n",
      "\n",
      "Guess a letter: e\n",
      "c a m e l\n",
      "You win.\n",
      "\n",
      "  +---+\n",
      "  |   |\n",
      "  O   |\n",
      " /|\\  |\n",
      "      |\n",
      "      |\n",
      "=========\n",
      "\n"
     ]
    }
   ],
   "source": [
    "import random\n",
    "\n",
    "stages = ['''\n",
    "  +---+\n",
    "  |   |\n",
    "  O   |\n",
    " /|\\  |\n",
    " / \\  |\n",
    "      |\n",
    "=========\n",
    "''', '''\n",
    "  +---+\n",
    "  |   |\n",
    "  O   |\n",
    " /|\\  |\n",
    " /    |\n",
    "      |\n",
    "=========\n",
    "''', '''\n",
    "  +---+\n",
    "  |   |\n",
    "  O   |\n",
    " /|\\  |\n",
    "      |\n",
    "      |\n",
    "=========\n",
    "''', '''\n",
    "  +---+\n",
    "  |   |\n",
    "  O   |\n",
    " /|   |\n",
    "      |\n",
    "      |\n",
    "=========''', '''\n",
    "  +---+\n",
    "  |   |\n",
    "  O   |\n",
    "  |   |\n",
    "      |\n",
    "      |\n",
    "=========\n",
    "''', '''\n",
    "  +---+\n",
    "  |   |\n",
    "  O   |\n",
    "      |\n",
    "      |\n",
    "      |\n",
    "=========\n",
    "''', '''\n",
    "  +---+\n",
    "  |   |\n",
    "      |\n",
    "      |\n",
    "      |\n",
    "      |\n",
    "=========\n",
    "''']\n",
    "\n",
    "end_of_game = False\n",
    "word_list = [\"ardvark\", \"baboon\", \"camel\"]\n",
    "chosen_word = random.choice(word_list)\n",
    "word_length = len(chosen_word)\n",
    "\n",
    "lives = 6\n",
    "\n",
    "display = []\n",
    "for _ in range(word_length):\n",
    "    display += \"_\"\n",
    "\n",
    "while not end_of_game:\n",
    "    guess = input(\"Guess a letter: \").lower()\n",
    "\n",
    "    for position in range(word_length):\n",
    "        letter = chosen_word[position]\n",
    "        if letter == guess:\n",
    "            display[position] = letter\n",
    "\n",
    "    if guess not in chosen_word:\n",
    "        lives -= 1\n",
    "        if lives == 0:\n",
    "            end_of_game = True\n",
    "            print(\"You lose.\")\n",
    "\n",
    "    print(f\"{' '.join(display)}\")\n",
    "\n",
    "    if \"_\" not in display:\n",
    "        end_of_game = True\n",
    "        print(\"You win.\")\n",
    "\n",
    "    print(stages[lives])"
   ]
  },
  {
   "cell_type": "markdown",
   "id": "0327f3b1",
   "metadata": {},
   "source": [
    "# Encode or Decode Message"
   ]
  },
  {
   "cell_type": "code",
   "execution_count": 21,
   "id": "f9c6cc70",
   "metadata": {},
   "outputs": [
    {
     "name": "stdout",
     "output_type": "stream",
     "text": [
      "Welcome to Caesar Cipher\n",
      "Type 'encode' to encrypt, type 'decode' to decrypt, type 'quit' to exit:\n",
      "encode\n",
      "Type your message: \n",
      "hello world!\n",
      "Type the shift key: \n",
      "5\n",
      "Encrypted message is: mjqqt btwqi!\n",
      "Type 'encode' to encrypt, type 'decode' to decrypt, type 'quit' to exit:\n",
      "decode\n",
      "Type your message: \n",
      "mjqqt btwqi!\n",
      "Type the shift key: \n",
      "5\n",
      "Decrypted message is: hello world!\n",
      "Type 'encode' to encrypt, type 'decode' to decrypt, type 'quit' to exit:\n",
      "quit\n",
      "Bye.\n"
     ]
    }
   ],
   "source": [
    "# version 1\n",
    "letters = \"abcdefghijklmnopqrstuvwxyz\"\n",
    "\n",
    "def encrypt(text,shift):\n",
    "    en_msg = \"\"\n",
    "    for ch in text:\n",
    "        try:\n",
    "            pos = letters.index(ch)\n",
    "            new_pos = pos+shift\n",
    "            if new_pos>25:\n",
    "                new_pos = new_pos - 26\n",
    "            en_msg += letters[new_pos]\n",
    "        except:\n",
    "            en_msg += ch\n",
    "    print(f\"Encrypted message is: {en_msg}\")\n",
    "    \n",
    "def decrypt(text,shift):\n",
    "    de_msg = \"\"\n",
    "    for ch in text:\n",
    "        try:\n",
    "            pos = letters.index(ch)\n",
    "            new_pos = pos-shift\n",
    "            if new_pos<0:\n",
    "                new_pos = new_pos + 26\n",
    "            de_msg += letters[new_pos]\n",
    "        except:\n",
    "            de_msg += ch\n",
    "    print(f\"Decrypted message is: {de_msg}\")\n",
    "\n",
    "print(\"Welcome to Caesar Cipher\")\n",
    "while True:\n",
    "    print(\"Type 'encode' to encrypt, type 'decode' to decrypt, type 'quit' to exit:\")\n",
    "    s = input()\n",
    "    if s == 'quit' or s !=  'encode' and s != 'decode':\n",
    "        print(\"Bye.\")\n",
    "        break\n",
    "    msg = input(\"Type your message: \\n\")\n",
    "    key = int(input(\"Type the shift key: \\n\"))\n",
    "\n",
    "    if s == 'encode':\n",
    "        msg = msg.lower()\n",
    "        encrypt(text=msg,shift=key) \n",
    "\n",
    "    if s == 'decode':\n",
    "        msg = msg.lower()\n",
    "        decrypt(text=msg,shift=key)\n"
   ]
  },
  {
   "cell_type": "code",
   "execution_count": 23,
   "id": "907c80ac",
   "metadata": {},
   "outputs": [
    {
     "name": "stdout",
     "output_type": "stream",
     "text": [
      "Welcome to Caesar Cipher\n",
      "Type 'encode' to encrypt, type 'decode' to decrypt, type 'quit' to exit:\n",
      "encode\n",
      "Type your message: \n",
      "hello\n",
      "Type the shift key: \n",
      "5\n",
      "Encrypted message is: uryyb\n",
      "Type 'encode' to encrypt, type 'decode' to decrypt, type 'quit' to exit:\n",
      "decode\n",
      "Type your message: \n",
      "uryyb\n",
      "Type the shift key: \n",
      "5\n",
      "Decrypted message is: hello\n",
      "Type 'encode' to encrypt, type 'decode' to decrypt, type 'quit' to exit:\n",
      "quit\n",
      "Bye.\n"
     ]
    }
   ],
   "source": [
    "# version 2\n",
    "\n",
    "letters = \"abcdefghijklmnopqrstuvwxyz\"\n",
    "\n",
    "def fibonacci(num):\n",
    "    a = 1\n",
    "    b = 2\n",
    "    if num == 1 or num == 2:\n",
    "        return num\n",
    "    for _ in range(3,num+1):\n",
    "        c = a+b\n",
    "        a = b\n",
    "        b = c\n",
    "    return c\n",
    "\n",
    "def encrypt(text,shift):\n",
    "    if shift > 26:\n",
    "        shift = shift % 26\n",
    "    en_msg = \"\"\n",
    "    for ch in text:\n",
    "        try:\n",
    "            pos = letters.index(ch)\n",
    "            new_pos = pos+shift\n",
    "            if new_pos>25:\n",
    "                new_pos = new_pos - 26\n",
    "            en_msg += letters[new_pos]\n",
    "        except:\n",
    "            en_msg += ch\n",
    "    return en_msg\n",
    "    \n",
    "def decrypt(text,shift):\n",
    "    if shift > 26:\n",
    "        shift = shift % 26\n",
    "    de_msg = \"\"\n",
    "    for ch in text:\n",
    "        try:\n",
    "            pos = letters.index(ch)\n",
    "            new_pos = pos-shift\n",
    "            if new_pos<0:\n",
    "                new_pos = new_pos + 26\n",
    "            de_msg += letters[new_pos]\n",
    "        except:\n",
    "            de_msg += ch\n",
    "    return de_msg\n",
    "\n",
    "print(\"Welcome to Caesar Cipher\")\n",
    "while True:\n",
    "    print(\"Type 'encode' to encrypt, type 'decode' to decrypt, type 'quit' to exit:\")\n",
    "    s = input()\n",
    "    if s == 'quit' or s !=  'encode' and s != 'decode':\n",
    "        print(\"Bye.\")\n",
    "        break\n",
    "    msg = input(\"Type your message: \\n\")\n",
    "    key = int(input(\"Type the shift key: \\n\"))\n",
    "    \n",
    "\n",
    "    if s == 'encode':\n",
    "        msg = msg.lower()\n",
    "        new_msg = encrypt(text=msg,shift=key) \n",
    "        new_key = fibonacci(key)\n",
    "        en_msg = encrypt(text=new_msg,shift=new_key)\n",
    "        print(f\"Encrypted message is: {en_msg}\")\n",
    "\n",
    "    if s == 'decode':\n",
    "        msg = msg.lower()\n",
    "        new_msg = decrypt(text=msg,shift=key)\n",
    "        new_key = fibonacci(key)\n",
    "        de_msg = decrypt(text=new_msg,shift=new_key)\n",
    "        print(f\"Decrypted message is: {de_msg}\")\n"
   ]
  },
  {
   "cell_type": "markdown",
   "id": "5c5d74ea",
   "metadata": {},
   "source": [
    "# 26-Sep-2021"
   ]
  },
  {
   "cell_type": "code",
   "execution_count": 6,
   "id": "4a9fe10c",
   "metadata": {},
   "outputs": [
    {
     "name": "stdout",
     "output_type": "stream",
     "text": [
      "Enter Your word: kil\n",
      "Unknown word 'kil'\n"
     ]
    }
   ],
   "source": [
    "dictioanry = {\n",
    "    \"bug\":\"An error.\",\n",
    "    \"function\":\"A piece of code.\",\n",
    "    \"loop\":\"The action of doing something.\"\n",
    "}\n",
    "\n",
    "def search(text):\n",
    "    text = text.lower()\n",
    "    print(dictioanry[text])\n",
    "    \n",
    "try:\n",
    "    text = input(\"Enter Your word: \")\n",
    "    search(text)\n",
    "except Exception as e:\n",
    "    print(\"Unknown word \"+str(e))"
   ]
  },
  {
   "cell_type": "code",
   "execution_count": 11,
   "id": "c99e11c6",
   "metadata": {},
   "outputs": [
    {
     "name": "stdout",
     "output_type": "stream",
     "text": [
      "{'Rahul': 'Best', 'Ram': 'Also good', 'sk': 'Excilent', 'jk': 'Good', 'rj': 'Also good'}\n"
     ]
    }
   ],
   "source": [
    "student = {\n",
    "    \"Rahul\":89,\n",
    "    \"Ram\":50,\n",
    "    \"sk\":90,\n",
    "    \"jk\":72,\n",
    "    \"rj\":45\n",
    "}\n",
    "studentGrades = {}\n",
    "for key in student:\n",
    "    score = student[key]\n",
    "    if score >= 90 and score <=100:\n",
    "        studentGrades[key] = \"Excilent\"\n",
    "    elif score >=80 and score <90:\n",
    "        studentGrades[key] = \"Best\"\n",
    "    elif score >= 70 and score <80:\n",
    "        studentGrades[key] = \"Good\"\n",
    "    elif score >0 and score < 70:\n",
    "        studentGrades[key] = \"Also good\"\n",
    "    else:\n",
    "        studentGrades[key] = \"Not Found\"\n",
    "\n",
    "print(studentGrades)"
   ]
  },
  {
   "cell_type": "code",
   "execution_count": 7,
   "id": "8993311e",
   "metadata": {},
   "outputs": [
    {
     "name": "stdout",
     "output_type": "stream",
     "text": [
      "Welcome to Bidding System\n",
      "What is your name? Rahul\n",
      "Enter your bid amount: $150\n",
      "Is there anyone to bid?yes\n",
      "What is your name? raj\n",
      "Enter your bid amount: $140\n",
      "Is there anyone to bid?no\n",
      "Winner is raj with a bid of $0\n"
     ]
    }
   ],
   "source": [
    "import os\n",
    "clear = lambda: os.system('clear')\n",
    "print(\"Welcome to Bidding System\")\n",
    "bid = {}\n",
    "ans = \"yes\"\n",
    "while(ans.lower() == 'yes'):\n",
    "    clear()\n",
    "    name = input(\"What is your name? \")\n",
    "    val = int(input(\"Enter your bid amount: $\"))\n",
    "    bid[name] = val\n",
    "    ans = input(\"Is there anyone to bid?\")\n",
    "    \n",
    "maxbid = 0\n",
    "winner = \"\"\n",
    "for key in bid.keys():\n",
    "    maxbid = min(maxbid,bid[key])\n",
    "    winner = key\n",
    "    \n",
    "print(f\"Winner is {winner} with a bid of ${maxbid}\")"
   ]
  },
  {
   "cell_type": "code",
   "execution_count": null,
   "id": "e50cf16d",
   "metadata": {},
   "outputs": [],
   "source": [
    "print(\"Hello Python!\")"
   ]
  }
 ],
 "metadata": {
  "interpreter": {
   "hash": "891dd452b34702fb9b27e28b664147394540fa35910de3f6b830b0725c52f0a2"
  },
  "kernelspec": {
   "display_name": "Python 3",
   "language": "python",
   "name": "python3"
  },
  "language_info": {
   "codemirror_mode": {
    "name": "ipython",
    "version": 3
   },
   "file_extension": ".py",
   "mimetype": "text/x-python",
   "name": "python",
   "nbconvert_exporter": "python",
   "pygments_lexer": "ipython3",
   "version": "3.8.8"
  }
 },
 "nbformat": 4,
 "nbformat_minor": 5
}
