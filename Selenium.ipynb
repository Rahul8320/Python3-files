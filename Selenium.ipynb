{
 "cells": [
  {
   "cell_type": "code",
   "execution_count": 20,
   "id": "198dde1c",
   "metadata": {},
   "outputs": [],
   "source": [
    "from selenium import webdriver\n",
    "from selenium.webdriver.common.by import By\n",
    "import time\n",
    "\n",
    "driver = webdriver.Chrome(r\"/home/mine/Downloads/chromedriver\")\n",
    "driver.get(\"https://www.amazon.in/\")\n",
    "ele = driver.find_element(By.ID,\"twotabsearchtextbox\")\n",
    "ele.send_keys(\"Jbl Headphone under 700\")\n",
    "driver.find_element_by_id(\"nav-search-submit-button\").click()\n",
    "# driver.quit()"
   ]
  },
  {
   "cell_type": "code",
   "execution_count": 17,
   "id": "2ee8031a",
   "metadata": {},
   "outputs": [
    {
     "name": "stdout",
     "output_type": "stream",
     "text": [
      "<selenium.webdriver.remote.webelement.WebElement (session=\"52d18f393c352ca49e31ac16505d5bba\", element=\"9b6aead6-4ed7-4ba0-8345-54813214ff12\")>\n"
     ]
    }
   ],
   "source": [
    "from selenium import webdriver\n",
    "from selenium.webdriver.common.by import By\n",
    "import time\n",
    "\n",
    "browser=webdriver.Chrome(r\"/home/mine/Downloads/chromedriver\")\n",
    "browser.get(\"https://wiki.ubuntu.com\")\n",
    "element=browser.find_element(By.ID,\"searchinput\")\n",
    "element.send_keys(\"typing\")\n",
    "print(element)\n",
    "time.sleep(3)\n",
    "browser.close()"
   ]
  },
  {
   "cell_type": "code",
   "execution_count": 22,
   "id": "798c726e",
   "metadata": {},
   "outputs": [
    {
     "name": "stdout",
     "output_type": "stream",
     "text": [
      "Test Completed\n"
     ]
    }
   ],
   "source": [
    "from selenium import webdriver\n",
    "import unittest\n",
    "\n",
    "class GoogleSearch(unittest.TestCase):\n",
    "    \n",
    "    \n",
    "driver = webdriver.Chrome(r\"/home/mine/Downloads/chromedriver\")\n",
    "driver.implicitly_wait(5)\n",
    "driver.maximize_window()\n",
    "driver.get(\"https://www.google.com\")\n",
    "driver.find_element_by_name(\"q\").send_keys(\"Selenium automation through python\")\n",
    "driver.find_element_by_name(\"btnK\").click()\n",
    "driver.close()\n",
    "print(\"Test Completed\")"
   ]
  },
  {
   "cell_type": "code",
   "execution_count": null,
   "id": "628dbcb3",
   "metadata": {},
   "outputs": [],
   "source": []
  }
 ],
 "metadata": {
  "kernelspec": {
   "display_name": "Python 3",
   "language": "python",
   "name": "python3"
  },
  "language_info": {
   "codemirror_mode": {
    "name": "ipython",
    "version": 3
   },
   "file_extension": ".py",
   "mimetype": "text/x-python",
   "name": "python",
   "nbconvert_exporter": "python",
   "pygments_lexer": "ipython3",
   "version": "3.8.8"
  }
 },
 "nbformat": 4,
 "nbformat_minor": 5
}
